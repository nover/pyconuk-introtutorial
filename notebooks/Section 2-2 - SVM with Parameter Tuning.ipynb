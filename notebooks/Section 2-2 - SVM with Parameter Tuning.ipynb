{
 "cells": [
  {
   "cell_type": "markdown",
   "metadata": {},
   "source": [
    "# Section 2-2 - SVM with Parameter Tuning"
   ]
  },
  {
   "cell_type": "markdown",
   "metadata": {},
   "source": [
    "Now we simply use Support Vector Machines with parameter tuning using GridSearch SV."
   ]
  },
  {
   "cell_type": "markdown",
   "metadata": {},
   "source": [
    "## Pandas - Extracting data"
   ]
  },
  {
   "cell_type": "code",
   "execution_count": 1,
   "metadata": {
    "collapsed": false
   },
   "outputs": [],
   "source": [
    "import pandas as pd\n",
    "import numpy as np\n",
    "\n",
    "df = pd.read_csv('../data/train.csv')"
   ]
  },
  {
   "cell_type": "markdown",
   "metadata": {},
   "source": [
    "## Pandas - Cleaning data"
   ]
  },
  {
   "cell_type": "code",
   "execution_count": 2,
   "metadata": {
    "collapsed": false
   },
   "outputs": [
    {
     "name": "stderr",
     "output_type": "stream",
     "text": [
      "/usr/local/lib/python2.7/site-packages/numpy/lib/arraysetops.py:200: FutureWarning: numpy not_equal will not check object identity in the future. The comparison did not return the same result as suggested by the identity (`is`)) and will change.\n",
      "  flag = np.concatenate(([True], aux[1:] != aux[:-1]))\n"
     ]
    }
   ],
   "source": [
    "df = df.drop(['Name', 'Ticket', 'Cabin'], axis=1)\n",
    "\n",
    "age_mean = df['Age'].mean()\n",
    "df['Age'] = df['Age'].fillna(age_mean)\n",
    "\n",
    "from scipy.stats import mode\n",
    "\n",
    "mode_embarked = mode(df['Embarked'])[0][0]\n",
    "df['Embarked'] = df['Embarked'].fillna(mode_embarked)\n",
    "\n",
    "df['Gender'] = df['Sex'].map({'female': 0, 'male': 1}).astype(int)\n",
    "df = pd.concat([df, pd.get_dummies(df['Embarked'], prefix='Embarked')], axis=1)\n",
    "\n",
    "df = df.drop(['Sex', 'Embarked'], axis=1)\n",
    "\n",
    "cols = df.columns.tolist()\n",
    "cols = [cols[1]] + cols[0:1] + cols[2:]\n",
    "\n",
    "df = df[cols]\n",
    "\n",
    "train_data = df.values"
   ]
  },
  {
   "cell_type": "markdown",
   "metadata": {},
   "source": [
    "## Scikit-learn - Training the model"
   ]
  },
  {
   "cell_type": "markdown",
   "metadata": {},
   "source": [
    "We build the parameter grid for SVC, noting that the default parameters are C = 1.0, and  gamma = 0.0."
   ]
  },
  {
   "cell_type": "code",
   "execution_count": 3,
   "metadata": {
    "collapsed": false
   },
   "outputs": [
    {
     "name": "stdout",
     "output_type": "stream",
     "text": [
      "Fitting 5 folds for each of 4 candidates, totalling 20 fits\n"
     ]
    },
    {
     "name": "stderr",
     "output_type": "stream",
     "text": [
      "[Parallel(n_jobs=4)]: Done  21 out of  20 | elapsed:   46.0s remaining:   -2.2s\n",
      "[Parallel(n_jobs=4)]: Done  21 out of  20 | elapsed:   48.5s remaining:   -2.3s\n",
      "[Parallel(n_jobs=4)]: Done  21 out of  20 | elapsed:   52.1s remaining:   -2.5s\n",
      "[Parallel(n_jobs=4)]: Done  21 out of  20 | elapsed:  1.0min remaining:   -2.9s\n",
      "[Parallel(n_jobs=4)]: Done  21 out of  20 | elapsed:  1.2min remaining:   -3.3s\n",
      "[Parallel(n_jobs=4)]: Done  21 out of  20 | elapsed:  1.3min remaining:   -3.6s\n",
      "[Parallel(n_jobs=4)]: Done  21 out of  20 | elapsed:  1.6min remaining:   -4.5s\n",
      "[Parallel(n_jobs=4)]: Done  20 out of  20 | elapsed:  1.6min finished\n"
     ]
    },
    {
     "name": "stdout",
     "output_type": "stream",
     "text": [
      "[CV] C=1.0, gamma=0.1 ................................................\n",
      "[CV] C=1.0, gamma=0.1 ................................................\n",
      "[CV] C=1.0, gamma=0.1 ................................................\n",
      "[CV] C=1.0, gamma=0.1 ................................................\n",
      "[CV] ....................... C=1.0, gamma=0.1, score=0.804469 -   2.0s[CV] ....................... C=1.0, gamma=0.1, score=0.810056 -   1.5s[CV] ....................... C=1.0, gamma=0.1, score=0.786517 -   2.2s[CV] ....................... C=1.0, gamma=0.1, score=0.752809 -  10.8s\n",
      "\n",
      "\n",
      "\n",
      "[CV] C=1.0, gamma=1.0 ................................................\n",
      "[CV] C=1.0, gamma=0.1 ................................................\n",
      "[CV] C=1.0, gamma=1.0 ................................................\n",
      "[CV] C=10.0, gamma=0.1 ...............................................\n",
      "[CV] ....................... C=1.0, gamma=1.0, score=0.804469 -   2.1s[CV] ....................... C=1.0, gamma=0.1, score=0.785311 -  15.6s[CV] ....................... C=1.0, gamma=1.0, score=0.810056 -   1.5s[CV] ...................... C=10.0, gamma=0.1, score=0.804469 -  14.2s\n",
      "\n",
      "\n",
      "\n",
      "[CV] C=1.0, gamma=1.0 ................................................\n",
      "[CV] C=10.0, gamma=0.1 ...............................................\n",
      "[CV] C=1.0, gamma=1.0 ................................................\n",
      "[CV] C=10.0, gamma=0.1 ...............................................\n",
      "[CV] ....................... C=1.0, gamma=1.0, score=0.752809 -  11.2s[CV] ...................... C=10.0, gamma=0.1, score=0.786517 -  15.4s[CV] ....................... C=1.0, gamma=1.0, score=0.786517 -   2.4s[CV] ...................... C=10.0, gamma=0.1, score=0.785311 -  44.5s\n",
      "\n",
      "\n",
      "\n",
      "[CV] C=10.0, gamma=0.1 ...............................................\n",
      "[CV] C=10.0, gamma=1.0 ...............................................\n",
      "[CV] C=1.0, gamma=1.0 ................................................\n",
      "[CV] ...................... C=10.0, gamma=0.1, score=0.810056 -  16.2s[CV] ...................... C=10.0, gamma=1.0, score=0.810056 -  16.0s[CV] ....................... C=1.0, gamma=1.0, score=0.785311 -  16.1s\n",
      "\n",
      "\n",
      "[CV] C=10.0, gamma=1.0 ...............................................\n",
      "[CV] C=10.0, gamma=1.0 ...............................................\n",
      "[CV] C=10.0, gamma=0.1 ...............................................\n",
      "[CV] ...................... C=10.0, gamma=1.0, score=0.804469 -  14.5s[CV] ...................... C=10.0, gamma=1.0, score=0.752809 -  28.1s[CV] ...................... C=10.0, gamma=0.1, score=0.752809 -  29.9s\n",
      "\n",
      "\n",
      "[CV] C=10.0, gamma=1.0 ...............................................\n",
      "[CV] C=10.0, gamma=1.0 ...............................................\n",
      "[CV] ...................... C=10.0, gamma=1.0, score=0.786517 -  15.1s[CV] ...................... C=10.0, gamma=1.0, score=0.785311 -  41.8s\n",
      "\n"
     ]
    },
    {
     "data": {
      "text/plain": [
       "GridSearchCV(cv=5, error_score='raise',\n",
       "       estimator=SVC(C=1.0, cache_size=200, class_weight=None, coef0=0.0,\n",
       "  decision_function_shape=None, degree=3, gamma='auto', kernel='linear',\n",
       "  max_iter=-1, probability=False, random_state=None, shrinking=True,\n",
       "  tol=0.001, verbose=False),\n",
       "       fit_params={}, iid=True, n_jobs=4,\n",
       "       param_grid={'C': [1.0, 10.0], 'gamma': [0.1, 1.0]},\n",
       "       pre_dispatch='2*n_jobs', refit=True, scoring=None, verbose=3)"
      ]
     },
     "execution_count": 3,
     "metadata": {},
     "output_type": "execute_result"
    }
   ],
   "source": [
    "from sklearn.svm import SVC\n",
    "from sklearn.grid_search import GridSearchCV\n",
    "\n",
    "parameter_grid = {\n",
    "    'C': [1., 10.],\n",
    "    'gamma': [0.1, 1.]\n",
    "}\n",
    "\n",
    "grid_search = GridSearchCV(SVC(kernel='linear'), parameter_grid, cv=5, verbose=3, n_jobs=4)\n",
    "grid_search.fit(train_data[0:,2:], train_data[0:,0])"
   ]
  },
  {
   "cell_type": "code",
   "execution_count": 4,
   "metadata": {
    "collapsed": false
   },
   "outputs": [
    {
     "data": {
      "text/plain": [
       "{'C': 1.0, 'gamma': 0.1}"
      ]
     },
     "execution_count": 4,
     "metadata": {},
     "output_type": "execute_result"
    }
   ],
   "source": [
    "sorted(grid_search.grid_scores_, key=lambda x: x.mean_validation_score)\n",
    "grid_search.best_score_\n",
    "grid_search.best_params_"
   ]
  },
  {
   "cell_type": "markdown",
   "metadata": {},
   "source": [
    "Similarly choose best parameter"
   ]
  },
  {
   "cell_type": "code",
   "execution_count": 5,
   "metadata": {
    "collapsed": false
   },
   "outputs": [],
   "source": [
    "model = SVC(\n",
    "    kernel='linear', \n",
    "    C=grid_search.best_params_['C'], \n",
    "    gamma=grid_search.best_params_['gamma'])\n",
    "model = model.fit(train_data[0:,2:], train_data[0:,0])"
   ]
  },
  {
   "cell_type": "markdown",
   "metadata": {},
   "source": [
    "## Scikit-learn - Making predictions"
   ]
  },
  {
   "cell_type": "code",
   "execution_count": 6,
   "metadata": {
    "collapsed": false
   },
   "outputs": [
    {
     "name": "stderr",
     "output_type": "stream",
     "text": [
      "/usr/local/lib/python2.7/site-packages/ipykernel/__main__.py:9: FutureWarning: scalar indexers for index type Int64Index should be integers and not floating point\n"
     ]
    }
   ],
   "source": [
    "df_test = pd.read_csv('../data/test.csv')\n",
    "\n",
    "df_test = df_test.drop(['Name', 'Ticket', 'Cabin'], axis=1)\n",
    "\n",
    "df_test['Age'] = df_test['Age'].fillna(age_mean)\n",
    "\n",
    "fare_means = df.pivot_table('Fare', index='Pclass', aggfunc='mean')\n",
    "df_test['Fare'] = df_test[['Fare', 'Pclass']].apply(lambda x:\n",
    "                            fare_means[x['Pclass']] if pd.isnull(x['Fare'])\n",
    "                            else x['Fare'], axis=1)\n",
    "\n",
    "df_test['Gender'] = df_test['Sex'].map({'female': 0, 'male': 1}).astype(int)\n",
    "df_test = pd.concat([df_test, pd.get_dummies(df_test['Embarked'], prefix='Embarked')],\n",
    "                axis=1)\n",
    "\n",
    "df_test = df_test.drop(['Sex', 'Embarked'], axis=1)\n",
    "\n",
    "test_data = df_test.values\n",
    "\n",
    "output = model.predict(test_data[:,1:])"
   ]
  },
  {
   "cell_type": "markdown",
   "metadata": {},
   "source": [
    "## Pandas - Preparing for submission"
   ]
  },
  {
   "cell_type": "code",
   "execution_count": 7,
   "metadata": {
    "collapsed": false
   },
   "outputs": [],
   "source": [
    "result = np.c_[test_data[:,0].astype(int), output.astype(int)]\n",
    "\n",
    "df_result = pd.DataFrame(result[:,0:2], columns=['PassengerId', 'Survived'])\n",
    "df_result.to_csv('../results/titanic_2-2.csv', index=False)"
   ]
  },
  {
   "cell_type": "code",
   "execution_count": null,
   "metadata": {
    "collapsed": true
   },
   "outputs": [],
   "source": []
  }
 ],
 "metadata": {
  "kernelspec": {
   "display_name": "Python 2",
   "language": "python",
   "name": "python2"
  },
  "language_info": {
   "codemirror_mode": {
    "name": "ipython",
    "version": 2
   },
   "file_extension": ".py",
   "mimetype": "text/x-python",
   "name": "python",
   "nbconvert_exporter": "python",
   "pygments_lexer": "ipython2",
   "version": "2.7.10"
  }
 },
 "nbformat": 4,
 "nbformat_minor": 0
}
