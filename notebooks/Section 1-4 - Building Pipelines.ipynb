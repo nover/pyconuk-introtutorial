{
 "cells": [
  {
   "cell_type": "markdown",
   "metadata": {},
   "source": [
    "# Section 1-4 - Building Pipelines"
   ]
  },
  {
   "cell_type": "markdown",
   "metadata": {},
   "source": [
    "GridSearchCV reviews the performance of a set range of parameters on a cross-validation basis. This means only a portion of the training data is reviewed at any one time. When filling in the NA values with the mean value, however, we considered the whole set of training data."
   ]
  },
  {
   "cell_type": "markdown",
   "metadata": {},
   "source": [
    "Hence we took an inconsistent approach in reviewing only a portion of the data when running GridSearchCV, but the full set of data when filling in missing values. We can avoid this inconsistency by building pipelines and making imputations."
   ]
  },
  {
   "cell_type": "markdown",
   "metadata": {},
   "source": [
    "## Pandas - Extracting data"
   ]
  },
  {
   "cell_type": "code",
   "execution_count": 45,
   "metadata": {
    "collapsed": false
   },
   "outputs": [],
   "source": [
    "import pandas as pd\n",
    "import numpy as np\n",
    "\n",
    "df = pd.read_csv('../data/train.csv')"
   ]
  },
  {
   "cell_type": "markdown",
   "metadata": {},
   "source": [
    "## Pandas - Cleaning data"
   ]
  },
  {
   "cell_type": "markdown",
   "metadata": {},
   "source": [
    "We will leave the NA values in the column Age."
   ]
  },
  {
   "cell_type": "code",
   "execution_count": 46,
   "metadata": {
    "collapsed": false
   },
   "outputs": [],
   "source": [
    "df = df.drop(['Name', 'Ticket', 'Cabin'], axis=1)\n",
    "\n",
    "age_mean = df['Age'].mean()\n",
    "\n",
    "from scipy.stats import mode\n",
    "\n",
    "mode_embarked = mode(df['Embarked'])[0][0]\n",
    "df['Embarked'] = df['Embarked'].fillna(mode_embarked)\n",
    "\n",
    "df['Gender'] = df['Sex'].map({'female': 0, 'male': 1}).astype(int)\n",
    "\n",
    "pd.get_dummies(df['Embarked'], prefix='Embarked').head(10)\n",
    "df = pd.concat([df, pd.get_dummies(df['Embarked'], prefix='Embarked')], axis=1)\n",
    "\n",
    "df = df.drop(['Sex', 'Embarked'], axis=1)\n",
    "\n",
    "cols = df.columns.tolist()\n",
    "cols = [cols[1]] + cols[0:1] + cols[2:]\n",
    "\n",
    "df = df[cols]"
   ]
  },
  {
   "cell_type": "markdown",
   "metadata": {},
   "source": [
    "We replace the NA values in the column Age with a negative value marker -1, as the following bug disallows us from using a missing value marker:\n",
    "\n",
    "https://github.com/scikit-learn/scikit-learn/issues/3044"
   ]
  },
  {
   "cell_type": "code",
   "execution_count": 47,
   "metadata": {
    "collapsed": false
   },
   "outputs": [],
   "source": [
    "df = df.fillna(-1)"
   ]
  },
  {
   "cell_type": "markdown",
   "metadata": {},
   "source": [
    "We then review our dataset."
   ]
  },
  {
   "cell_type": "code",
   "execution_count": 48,
   "metadata": {
    "collapsed": false
   },
   "outputs": [
    {
     "name": "stdout",
     "output_type": "stream",
     "text": [
      "<class 'pandas.core.frame.DataFrame'>\n",
      "Int64Index: 891 entries, 0 to 890\n",
      "Data columns (total 11 columns):\n",
      "Survived       891 non-null int64\n",
      "PassengerId    891 non-null int64\n",
      "Pclass         891 non-null int64\n",
      "Age            891 non-null float64\n",
      "SibSp          891 non-null int64\n",
      "Parch          891 non-null int64\n",
      "Fare           891 non-null float64\n",
      "Gender         891 non-null int64\n",
      "Embarked_C     891 non-null float64\n",
      "Embarked_Q     891 non-null float64\n",
      "Embarked_S     891 non-null float64\n",
      "dtypes: float64(5), int64(6)\n",
      "memory usage: 83.5 KB\n"
     ]
    }
   ],
   "source": [
    "df.info()"
   ]
  },
  {
   "cell_type": "code",
   "execution_count": 49,
   "metadata": {
    "collapsed": false
   },
   "outputs": [],
   "source": [
    "train_data = df.values"
   ]
  },
  {
   "cell_type": "markdown",
   "metadata": {},
   "source": [
    "## Scikit-learn - Training the model"
   ]
  },
  {
   "cell_type": "markdown",
   "metadata": {},
   "source": [
    "We now build a pipeline to enable us to first impute the mean value of the column Age on the portion of the training data we are considering, and second, assess the performance of our tuning parameters."
   ]
  },
  {
   "cell_type": "code",
   "execution_count": 50,
   "metadata": {
    "collapsed": false
   },
   "outputs": [],
   "source": [
    "from sklearn.pipeline import Pipeline\n",
    "from sklearn.preprocessing import Imputer\n",
    "from sklearn.ensemble import RandomForestClassifier\n",
    "from sklearn.grid_search import GridSearchCV\n",
    "\n",
    "imputer = Imputer(strategy='mean', missing_values=-1)\n",
    "\n",
    "classifier = RandomForestClassifier(n_estimators=100)\n",
    "\n",
    "pipeline = Pipeline([\n",
    "    ('imp', imputer),\n",
    "    ('clf', classifier),\n",
    "])"
   ]
  },
  {
   "cell_type": "markdown",
   "metadata": {},
   "source": [
    "We note the slight change made to the syntax inside our parameter grid."
   ]
  },
  {
   "cell_type": "code",
   "execution_count": 51,
   "metadata": {
    "collapsed": false
   },
   "outputs": [],
   "source": [
    "parameter_grid = {\n",
    "    'clf__max_features': [0.5, 1],\n",
    "    'clf__max_depth': [5, None],\n",
    "}"
   ]
  },
  {
   "cell_type": "markdown",
   "metadata": {},
   "source": [
    "We now run GridSearchCV as before but replacing the classifier with our pipeline."
   ]
  },
  {
   "cell_type": "code",
   "execution_count": 52,
   "metadata": {
    "collapsed": false
   },
   "outputs": [],
   "source": [
    "grid_search = GridSearchCV(pipeline, parameter_grid, cv=5, verbose=3)"
   ]
  },
  {
   "cell_type": "code",
   "execution_count": 53,
   "metadata": {
    "collapsed": false
   },
   "outputs": [
    {
     "name": "stdout",
     "output_type": "stream",
     "text": [
      "Fitting 5 folds for each of 4 candidates, totalling 20 fits\n",
      "[CV] clf__max_features=0.5, clf__max_depth=5 .........................\n",
      "[CV]  clf__max_features=0.5, clf__max_depth=5, score=0.754190 -   0.2s\n",
      "[CV] clf__max_features=0.5, clf__max_depth=5 .........................\n",
      "[CV]  clf__max_features=0.5, clf__max_depth=5, score=0.821229 -   0.2s\n",
      "[CV] clf__max_features=0.5, clf__max_depth=5 .........................\n",
      "[CV]  clf__max_features=0.5, clf__max_depth=5, score=0.825843 -   0.2s\n",
      "[CV] clf__max_features=0.5, clf__max_depth=5 .........................\n",
      "[CV]  clf__max_features=0.5, clf__max_depth=5, score=0.786517 -   0.2s\n",
      "[CV] clf__max_features=0.5, clf__max_depth=5 .........................\n",
      "[CV]  clf__max_features=0.5, clf__max_depth=5, score=0.858757 -   0.2s\n",
      "[CV] clf__max_features=1, clf__max_depth=5 ...........................\n",
      "[CV] .. clf__max_features=1, clf__max_depth=5, score=0.648045 -   0.1s\n",
      "[CV] clf__max_features=1, clf__max_depth=5 ...........................\n",
      "[CV] .. clf__max_features=1, clf__max_depth=5, score=0.837989 -   0.2s\n",
      "[CV] clf__max_features=1, clf__max_depth=5 ...........................\n",
      "[CV] .. clf__max_features=1, clf__max_depth=5, score=0.853933 -   0.1s\n",
      "[CV] clf__max_features=1, clf__max_depth=5 ...........................\n",
      "[CV] .. clf__max_features=1, clf__max_depth=5, score=0.803371 -   0.2s\n",
      "[CV] clf__max_features=1, clf__max_depth=5 ...........................\n",
      "[CV] .. clf__max_features=1, clf__max_depth=5, score=0.830508 -   0.2s\n",
      "[CV] clf__max_features=0.5, clf__max_depth=None ......................\n",
      "[CV]  clf__max_features=0.5, clf__max_depth=None, score=0.670391 -   0.2s\n",
      "[CV] clf__max_features=0.5, clf__max_depth=None ......................\n",
      "[CV]  clf__max_features=0.5, clf__max_depth=None, score=0.804469 -   0.2s\n",
      "[CV] clf__max_features=0.5, clf__max_depth=None ......................\n",
      "[CV]  clf__max_features=0.5, clf__max_depth=None, score=0.837079 -   0.2s\n",
      "[CV] clf__max_features=0.5, clf__max_depth=None ......................\n",
      "[CV]  clf__max_features=0.5, clf__max_depth=None, score=0.831461 -   0.2s\n",
      "[CV] clf__max_features=0.5, clf__max_depth=None ......................\n",
      "[CV]  clf__max_features=0.5, clf__max_depth=None, score=0.853107 -   0.2s\n",
      "[CV] clf__max_features=1, clf__max_depth=None ........................\n",
      "[CV]  clf__max_features=1, clf__max_depth=None, score=0.737430 -   0.2s\n",
      "[CV] clf__max_features=1, clf__max_depth=None ........................\n",
      "[CV]  clf__max_features=1, clf__max_depth=None, score=0.776536 -   0.2s\n",
      "[CV] clf__max_features=1, clf__max_depth=None ........................\n",
      "[CV]  clf__max_features=1, clf__max_depth=None, score=0.825843 -   0.2s\n",
      "[CV] clf__max_features=1, clf__max_depth=None ........................\n",
      "[CV]  clf__max_features=1, clf__max_depth=None, score=0.825843 -   0.2s\n",
      "[CV] clf__max_features=1, clf__max_depth=None ........................\n",
      "[CV]  clf__max_features=1, clf__max_depth=None, score=0.841808 -   0.2s\n"
     ]
    },
    {
     "name": "stderr",
     "output_type": "stream",
     "text": [
      "[Parallel(n_jobs=1)]: Done  20 out of  20 | elapsed:    3.5s finished\n"
     ]
    },
    {
     "data": {
      "text/plain": [
       "GridSearchCV(cv=5, error_score='raise',\n",
       "       estimator=Pipeline(steps=[('imp', Imputer(axis=0, copy=True, missing_values=-1, strategy='mean', verbose=0)), ('clf', RandomForestClassifier(bootstrap=True, class_weight=None, criterion='gini',\n",
       "            max_depth=None, max_features='auto', max_leaf_nodes=None,\n",
       "            min_samples_leaf=1, min_samples_split=2,\n",
       "            min_weight_fraction_leaf=0.0, n_estimators=100, n_jobs=1,\n",
       "            oob_score=False, random_state=None, verbose=0,\n",
       "            warm_start=False))]),\n",
       "       fit_params={}, iid=True, n_jobs=1,\n",
       "       param_grid={'clf__max_features': [0.5, 1], 'clf__max_depth': [5, None]},\n",
       "       pre_dispatch='2*n_jobs', refit=True, scoring=None, verbose=3)"
      ]
     },
     "execution_count": 53,
     "metadata": {},
     "output_type": "execute_result"
    }
   ],
   "source": [
    "grid_search.fit(train_data[0::,1::], train_data[0::,0])"
   ]
  },
  {
   "cell_type": "code",
   "execution_count": 54,
   "metadata": {
    "collapsed": false
   },
   "outputs": [
    {
     "name": "stdout",
     "output_type": "stream",
     "text": [
      "{'clf__max_features': 0.5, 'clf__max_depth': 5} 0.809203142536\n"
     ]
    }
   ],
   "source": [
    "sorted(grid_search.grid_scores_, key=lambda x: x.mean_validation_score)\n",
    "print grid_search.best_params_, grid_search.best_score_"
   ]
  },
  {
   "cell_type": "markdown",
   "metadata": {},
   "source": [
    "Now that we've determined the desired values for our tuning parameters, we can fill in the -1 values in the column Age with the mean and train our model."
   ]
  },
  {
   "cell_type": "code",
   "execution_count": 55,
   "metadata": {
    "collapsed": false
   },
   "outputs": [
    {
     "data": {
      "text/plain": [
       "count    891.000000\n",
       "mean      23.600640\n",
       "std       17.867496\n",
       "min       -1.000000\n",
       "25%        6.000000\n",
       "50%       24.000000\n",
       "75%       35.000000\n",
       "max       80.000000\n",
       "Name: Age, dtype: float64"
      ]
     },
     "execution_count": 55,
     "metadata": {},
     "output_type": "execute_result"
    }
   ],
   "source": [
    "df['Age'].describe()"
   ]
  },
  {
   "cell_type": "code",
   "execution_count": 56,
   "metadata": {
    "collapsed": false
   },
   "outputs": [],
   "source": [
    "df['Age'] = df['Age'].map(lambda x: age_mean if x == -1 else x)"
   ]
  },
  {
   "cell_type": "code",
   "execution_count": 57,
   "metadata": {
    "collapsed": false
   },
   "outputs": [
    {
     "data": {
      "text/plain": [
       "count    891.000000\n",
       "mean      29.699118\n",
       "std       13.002015\n",
       "min        0.420000\n",
       "25%       22.000000\n",
       "50%       29.699118\n",
       "75%       35.000000\n",
       "max       80.000000\n",
       "Name: Age, dtype: float64"
      ]
     },
     "execution_count": 57,
     "metadata": {},
     "output_type": "execute_result"
    }
   ],
   "source": [
    "df['Age'].describe()"
   ]
  },
  {
   "cell_type": "code",
   "execution_count": 58,
   "metadata": {
    "collapsed": false
   },
   "outputs": [],
   "source": [
    "train_data = df.values"
   ]
  },
  {
   "cell_type": "code",
   "execution_count": 59,
   "metadata": {
    "collapsed": false
   },
   "outputs": [],
   "source": [
    "model = RandomForestClassifier(\n",
    "    n_estimators = 100, \n",
    "    max_features=grid_search.best_params_['clf__max_features'], \n",
    "    max_depth=grid_search.best_params_['clf__max_depth'])\n",
    "model = model.fit(train_data[0:,2:],train_data[0:,0])"
   ]
  },
  {
   "cell_type": "markdown",
   "metadata": {},
   "source": [
    "## Scikit-learn - Making predictions"
   ]
  },
  {
   "cell_type": "code",
   "execution_count": 60,
   "metadata": {
    "collapsed": false
   },
   "outputs": [],
   "source": [
    "df_test = pd.read_csv('../data/test.csv')\n",
    "\n",
    "df_test = df_test.drop(['Name', 'Ticket', 'Cabin'], axis=1)"
   ]
  },
  {
   "cell_type": "markdown",
   "metadata": {},
   "source": [
    "We can fill in the NA values in test data with the mean, since there is no analogous problem of snooping."
   ]
  },
  {
   "cell_type": "code",
   "execution_count": 61,
   "metadata": {
    "collapsed": false
   },
   "outputs": [],
   "source": [
    "df_test['Age'] = df_test['Age'].fillna(age_mean)"
   ]
  },
  {
   "cell_type": "code",
   "execution_count": 62,
   "metadata": {
    "collapsed": false
   },
   "outputs": [
    {
     "name": "stderr",
     "output_type": "stream",
     "text": [
      "/usr/local/lib/python2.7/site-packages/ipykernel/__main__.py:3: FutureWarning: scalar indexers for index type Int64Index should be integers and not floating point\n",
      "  app.launch_new_instance()\n"
     ]
    }
   ],
   "source": [
    "fare_means = df.pivot_table('Fare', index='Pclass', aggfunc='mean')\n",
    "df_test['Fare'] = df_test[['Fare', 'Pclass']].apply(lambda x:\n",
    "                            fare_means[x['Pclass']] if pd.isnull(x['Fare'])\n",
    "                            else x['Fare'], axis=1)\n",
    "\n",
    "df_test['Gender'] = df_test['Sex'].map({'female': 0, 'male': 1}).astype(int)\n",
    "df_test = pd.concat([df_test, pd.get_dummies(df_test['Embarked'], prefix='Embarked')],\n",
    "                axis=1)\n",
    "\n",
    "df_test = df_test.drop(['Sex', 'Embarked'], axis=1)\n",
    "\n",
    "test_data = df_test.values\n",
    "\n",
    "output = model.predict(test_data[:,1:])"
   ]
  },
  {
   "cell_type": "markdown",
   "metadata": {},
   "source": [
    "## Pandas - Preparing for submission"
   ]
  },
  {
   "cell_type": "code",
   "execution_count": 63,
   "metadata": {
    "collapsed": false
   },
   "outputs": [],
   "source": [
    "result = np.c_[test_data[:,0].astype(int), output.astype(int)]\n",
    "\n",
    "df_result = pd.DataFrame(result[:,0:2], columns=['PassengerId', 'Survived'])\n",
    "df_result.to_csv('../results/titanic_1-4.csv', index=False)"
   ]
  },
  {
   "cell_type": "code",
   "execution_count": null,
   "metadata": {
    "collapsed": true
   },
   "outputs": [],
   "source": []
  }
 ],
 "metadata": {
  "kernelspec": {
   "display_name": "Python 2",
   "language": "python",
   "name": "python2"
  },
  "language_info": {
   "codemirror_mode": {
    "name": "ipython",
    "version": 2
   },
   "file_extension": ".py",
   "mimetype": "text/x-python",
   "name": "python",
   "nbconvert_exporter": "python",
   "pygments_lexer": "ipython2",
   "version": "2.7.10"
  }
 },
 "nbformat": 4,
 "nbformat_minor": 0
}
