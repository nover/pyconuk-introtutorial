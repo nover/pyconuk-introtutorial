{
 "cells": [
  {
   "cell_type": "markdown",
   "metadata": {},
   "source": [
    "# Section 1-5 - Final Checks"
   ]
  },
  {
   "cell_type": "markdown",
   "metadata": {},
   "source": [
    "We now arrive at the last piece of puzzle - comparing the mean against the median when filling in the training data."
   ]
  },
  {
   "cell_type": "markdown",
   "metadata": {},
   "source": [
    "## Pandas - Extracting data"
   ]
  },
  {
   "cell_type": "code",
   "execution_count": 59,
   "metadata": {
    "collapsed": false
   },
   "outputs": [],
   "source": [
    "import pandas as pd\n",
    "import numpy as np\n",
    "\n",
    "df = pd.read_csv('../data/train.csv')"
   ]
  },
  {
   "cell_type": "markdown",
   "metadata": {},
   "source": [
    "## Pandas - Cleaning data"
   ]
  },
  {
   "cell_type": "code",
   "execution_count": 60,
   "metadata": {
    "collapsed": false
   },
   "outputs": [],
   "source": [
    "df = df.drop(['Name', 'Ticket', 'Cabin'], axis=1)"
   ]
  },
  {
   "cell_type": "markdown",
   "metadata": {},
   "source": [
    "As we don't know whether the mean or the median will do better, we calculate both."
   ]
  },
  {
   "cell_type": "code",
   "execution_count": 61,
   "metadata": {
    "collapsed": false
   },
   "outputs": [],
   "source": [
    "age_mean = df['Age'].mean()\n",
    "age_median = df['Age'].median()"
   ]
  },
  {
   "cell_type": "code",
   "execution_count": 62,
   "metadata": {
    "collapsed": false
   },
   "outputs": [],
   "source": [
    "from scipy.stats import mode\n",
    "\n",
    "mode_embarked = mode(df['Embarked'])[0][0]\n",
    "df['Embarked'] = df['Embarked'].fillna(mode_embarked)\n",
    "\n",
    "df['Gender'] = df['Sex'].map({'female': 0, 'male': 1}).astype(int)\n",
    "\n",
    "pd.get_dummies(df['Embarked'], prefix='Embarked').head(10)\n",
    "df = pd.concat([df, pd.get_dummies(df['Embarked'], prefix='Embarked')], axis=1)\n",
    "\n",
    "df = df.drop(['Sex', 'Embarked'], axis=1)\n",
    "\n",
    "cols = df.columns.tolist()\n",
    "cols = [cols[1]] + cols[0:1] + cols[2:]\n",
    "df = df[cols]\n",
    "\n",
    "df = df.fillna(-1)\n",
    "\n",
    "train_data = df.values"
   ]
  },
  {
   "cell_type": "markdown",
   "metadata": {},
   "source": [
    "## Scikit-learn - Training the model"
   ]
  },
  {
   "cell_type": "code",
   "execution_count": 63,
   "metadata": {
    "collapsed": false
   },
   "outputs": [],
   "source": [
    "from sklearn.pipeline import Pipeline\n",
    "from sklearn.preprocessing import Imputer\n",
    "from sklearn.ensemble import RandomForestClassifier\n",
    "from sklearn.grid_search import GridSearchCV\n",
    "\n",
    "imputer = Imputer(missing_values=-1)\n",
    "\n",
    "classifier = RandomForestClassifier(n_estimators=100)\n",
    "\n",
    "pipeline = Pipeline([\n",
    "    ('imp', imputer),\n",
    "    ('clf', classifier),\n",
    "])"
   ]
  },
  {
   "cell_type": "markdown",
   "metadata": {},
   "source": [
    "We now include the mean-median comparison into our pipeline."
   ]
  },
  {
   "cell_type": "code",
   "execution_count": 64,
   "metadata": {
    "collapsed": false
   },
   "outputs": [],
   "source": [
    "parameter_grid = {\n",
    "    'imp__strategy': ['mean', 'median'],\n",
    "    'clf__max_features': [0.5, 1],\n",
    "    'clf__max_depth': [5, None],\n",
    "}"
   ]
  },
  {
   "cell_type": "code",
   "execution_count": 65,
   "metadata": {
    "collapsed": false
   },
   "outputs": [
    {
     "name": "stdout",
     "output_type": "stream",
     "text": [
      "Fitting 5 folds for each of 8 candidates, totalling 40 fits\n",
      "[CV] clf__max_features=0.5, clf__max_depth=5, imp__strategy=mean .....\n",
      "[CV]  clf__max_features=0.5, clf__max_depth=5, imp__strategy=mean, score=0.793296 -   0.2s\n",
      "[CV] clf__max_features=0.5, clf__max_depth=5, imp__strategy=mean .....\n",
      "[CV]  clf__max_features=0.5, clf__max_depth=5, imp__strategy=mean, score=0.826816 -   0.2s\n",
      "[CV] clf__max_features=0.5, clf__max_depth=5, imp__strategy=mean .....\n",
      "[CV]  clf__max_features=0.5, clf__max_depth=5, imp__strategy=mean, score=0.825843 -   0.2s\n",
      "[CV] clf__max_features=0.5, clf__max_depth=5, imp__strategy=mean .....\n",
      "[CV]  clf__max_features=0.5, clf__max_depth=5, imp__strategy=mean, score=0.786517 -   0.2s\n",
      "[CV] clf__max_features=0.5, clf__max_depth=5, imp__strategy=mean .....\n",
      "[CV]  clf__max_features=0.5, clf__max_depth=5, imp__strategy=mean, score=0.853107 -   0.2s\n",
      "[CV] clf__max_features=0.5, clf__max_depth=5, imp__strategy=median ...\n",
      "[CV]  clf__max_features=0.5, clf__max_depth=5, imp__strategy=median, score=0.804469 -   0.2s\n",
      "[CV] clf__max_features=0.5, clf__max_depth=5, imp__strategy=median ...\n",
      "[CV]  clf__max_features=0.5, clf__max_depth=5, imp__strategy=median, score=0.826816 -   0.2s\n",
      "[CV] clf__max_features=0.5, clf__max_depth=5, imp__strategy=median ...\n",
      "[CV]  clf__max_features=0.5, clf__max_depth=5, imp__strategy=median, score=0.825843 -   0.2s\n",
      "[CV] clf__max_features=0.5, clf__max_depth=5, imp__strategy=median ...\n",
      "[CV]  clf__max_features=0.5, clf__max_depth=5, imp__strategy=median, score=0.792135 -   0.2s\n",
      "[CV] clf__max_features=0.5, clf__max_depth=5, imp__strategy=median ...\n",
      "[CV]  clf__max_features=0.5, clf__max_depth=5, imp__strategy=median, score=0.858757 -   0.2s\n",
      "[CV] clf__max_features=1, clf__max_depth=5, imp__strategy=mean .......\n",
      "[CV]  clf__max_features=1, clf__max_depth=5, imp__strategy=mean, score=0.748603 -   0.1s\n",
      "[CV] clf__max_features=1, clf__max_depth=5, imp__strategy=mean .......\n",
      "[CV]  clf__max_features=1, clf__max_depth=5, imp__strategy=mean, score=0.815642 -   0.1s\n",
      "[CV] clf__max_features=1, clf__max_depth=5, imp__strategy=mean .......\n",
      "[CV]  clf__max_features=1, clf__max_depth=5, imp__strategy=mean, score=0.848315 -   0.1s\n",
      "[CV] clf__max_features=1, clf__max_depth=5, imp__strategy=mean .......\n",
      "[CV]  clf__max_features=1, clf__max_depth=5, imp__strategy=mean, score=0.797753 -   0.2s\n",
      "[CV] clf__max_features=1, clf__max_depth=5, imp__strategy=mean .......\n",
      "[CV]  clf__max_features=1, clf__max_depth=5, imp__strategy=mean, score=0.841808 -   0.1s\n",
      "[CV] clf__max_features=1, clf__max_depth=5, imp__strategy=median .....\n",
      "[CV]  clf__max_features=1, clf__max_depth=5, imp__strategy=median, score=0.787709 -   0.1s\n",
      "[CV] clf__max_features=1, clf__max_depth=5, imp__strategy=median .....\n",
      "[CV]  clf__max_features=1, clf__max_depth=5, imp__strategy=median, score=0.821229 -   0.1s\n",
      "[CV] clf__max_features=1, clf__max_depth=5, imp__strategy=median .....\n",
      "[CV]  clf__max_features=1, clf__max_depth=5, imp__strategy=median, score=0.853933 -   0.1s\n",
      "[CV] clf__max_features=1, clf__max_depth=5, imp__strategy=median .....\n",
      "[CV]  clf__max_features=1, clf__max_depth=5, imp__strategy=median, score=0.808989 -   0.1s\n",
      "[CV] clf__max_features=1, clf__max_depth=5, imp__strategy=median .....\n",
      "[CV]  clf__max_features=1, clf__max_depth=5, imp__strategy=median, score=0.836158 -   0.1s\n",
      "[CV] clf__max_features=0.5, clf__max_depth=None, imp__strategy=mean ..\n",
      "[CV]  clf__max_features=0.5, clf__max_depth=None, imp__strategy=mean, score=0.770950 -   0.2s\n",
      "[CV] clf__max_features=0.5, clf__max_depth=None, imp__strategy=mean ..\n",
      "[CV]  clf__max_features=0.5, clf__max_depth=None, imp__strategy=mean, score=0.821229 -   0.2s\n",
      "[CV] clf__max_features=0.5, clf__max_depth=None, imp__strategy=mean ..\n",
      "[CV]  clf__max_features=0.5, clf__max_depth=None, imp__strategy=mean, score=0.842697 -   0.2s\n",
      "[CV] clf__max_features=0.5, clf__max_depth=None, imp__strategy=mean ..\n",
      "[CV]  clf__max_features=0.5, clf__max_depth=None, imp__strategy=mean, score=0.786517 -   0.2s\n",
      "[CV] clf__max_features=0.5, clf__max_depth=None, imp__strategy=mean ..\n",
      "[CV]  clf__max_features=0.5, clf__max_depth=None, imp__strategy=mean, score=0.858757 -   0.2s\n",
      "[CV] clf__max_features=0.5, clf__max_depth=None, imp__strategy=median \n",
      "[CV]  clf__max_features=0.5, clf__max_depth=None, imp__strategy=median, score=0.776536 -   0.2s\n",
      "[CV] clf__max_features=0.5, clf__max_depth=None, imp__strategy=median \n",
      "[CV]  clf__max_features=0.5, clf__max_depth=None, imp__strategy=median, score=0.804469 -   0.2s\n",
      "[CV] clf__max_features=0.5, clf__max_depth=None, imp__strategy=median \n",
      "[CV]  clf__max_features=0.5, clf__max_depth=None, imp__strategy=median, score=0.859551 -   0.2s\n",
      "[CV] clf__max_features=0.5, clf__max_depth=None, imp__strategy=median \n",
      "[CV]  clf__max_features=0.5, clf__max_depth=None, imp__strategy=median, score=0.775281 -   0.2s\n",
      "[CV] clf__max_features=0.5, clf__max_depth=None, imp__strategy=median \n",
      "[CV]  clf__max_features=0.5, clf__max_depth=None, imp__strategy=median, score=0.819209 -   0.2s\n",
      "[CV] clf__max_features=1, clf__max_depth=None, imp__strategy=mean ....\n",
      "[CV]  clf__max_features=1, clf__max_depth=None, imp__strategy=mean, score=0.776536 -   0.2s\n",
      "[CV] clf__max_features=1, clf__max_depth=None, imp__strategy=mean ....\n",
      "[CV]  clf__max_features=1, clf__max_depth=None, imp__strategy=mean, score=0.798883 -   0.2s\n",
      "[CV] clf__max_features=1, clf__max_depth=None, imp__strategy=mean ....\n",
      "[CV]  clf__max_features=1, clf__max_depth=None, imp__strategy=mean, score=0.842697 -   0.2s\n",
      "[CV] clf__max_features=1, clf__max_depth=None, imp__strategy=mean ....\n",
      "[CV]  clf__max_features=1, clf__max_depth=None, imp__strategy=mean, score=0.775281 -   0.2s\n",
      "[CV] clf__max_features=1, clf__max_depth=None, imp__strategy=mean ....\n",
      "[CV]  clf__max_features=1, clf__max_depth=None, imp__strategy=mean, score=0.830508 -   0.2s\n",
      "[CV] clf__max_features=1, clf__max_depth=None, imp__strategy=median ..\n",
      "[CV]  clf__max_features=1, clf__max_depth=None, imp__strategy=median, score=0.776536 -   0.2s\n",
      "[CV] clf__max_features=1, clf__max_depth=None, imp__strategy=median ..\n",
      "[CV]  clf__max_features=1, clf__max_depth=None, imp__strategy=median, score=0.804469 -   0.2s\n",
      "[CV] clf__max_features=1, clf__max_depth=None, imp__strategy=median ..\n",
      "[CV]  clf__max_features=1, clf__max_depth=None, imp__strategy=median, score=0.837079 -   0.2s\n",
      "[CV] clf__max_features=1, clf__max_depth=None, imp__strategy=median ..\n",
      "[CV]  clf__max_features=1, clf__max_depth=None, imp__strategy=median, score=0.792135 -   0.2s\n",
      "[CV] clf__max_features=1, clf__max_depth=None, imp__strategy=median ..\n",
      "[CV]  clf__max_features=1, clf__max_depth=None, imp__strategy=median, score=0.824859 -   0.2s"
     ]
    },
    {
     "name": "stderr",
     "output_type": "stream",
     "text": [
      "[Parallel(n_jobs=1)]: Done  31 tasks       | elapsed:    5.1s\n",
      "[Parallel(n_jobs=1)]: Done  40 out of  40 | elapsed:    6.7s finished\n"
     ]
    },
    {
     "name": "stdout",
     "output_type": "stream",
     "text": [
      "\n"
     ]
    },
    {
     "data": {
      "text/plain": [
       "GridSearchCV(cv=5, error_score='raise',\n",
       "       estimator=Pipeline(steps=[('imp', Imputer(axis=0, copy=True, missing_values=-1, strategy='mean', verbose=0)), ('clf', RandomForestClassifier(bootstrap=True, class_weight=None, criterion='gini',\n",
       "            max_depth=None, max_features='auto', max_leaf_nodes=None,\n",
       "            min_samples_leaf=1, min_samples_split=2,\n",
       "            min_weight_fraction_leaf=0.0, n_estimators=100, n_jobs=1,\n",
       "            oob_score=False, random_state=None, verbose=0,\n",
       "            warm_start=False))]),\n",
       "       fit_params={}, iid=True, n_jobs=1,\n",
       "       param_grid={'clf__max_features': [0.5, 1], 'clf__max_depth': [5, None], 'imp__strategy': ['mean', 'median']},\n",
       "       pre_dispatch='2*n_jobs', refit=True, scoring=None, verbose=3)"
      ]
     },
     "execution_count": 65,
     "metadata": {},
     "output_type": "execute_result"
    }
   ],
   "source": [
    "grid_search = GridSearchCV(pipeline, parameter_grid, cv=5, verbose=3)\n",
    "grid_search.fit(train_data[0:,2:], train_data[0:,0])"
   ]
  },
  {
   "cell_type": "code",
   "execution_count": 66,
   "metadata": {
    "collapsed": false
   },
   "outputs": [
    {
     "name": "stdout",
     "output_type": "stream",
     "text": [
      "0.821548821549 {'clf__max_features': 0.5, 'clf__max_depth': 5, 'imp__strategy': 'median'}\n"
     ]
    }
   ],
   "source": [
    "sorted(grid_search.grid_scores_, key=lambda x: x.mean_validation_score)\n",
    "print grid_search.best_score_, grid_search.best_params_"
   ]
  },
  {
   "cell_type": "markdown",
   "metadata": {},
   "source": [
    "As before, we replace the -1 values in the column Age by the better performer."
   ]
  },
  {
   "cell_type": "code",
   "execution_count": 67,
   "metadata": {
    "collapsed": false
   },
   "outputs": [
    {
     "name": "stdout",
     "output_type": "stream",
     "text": [
      "in age median 28.0\n"
     ]
    }
   ],
   "source": [
    "if grid_search.best_params_['imp__strategy'] == 'mean':\n",
    "    print 'in age mean', age_median\n",
    "    df['Age'] = df['Age'].map(lambda x: age_mean if x == -1 else x)\n",
    "else:\n",
    "    print 'in age median', age_median\n",
    "    df['Age'] = df['Age'].map(lambda x: age_median if x == -1 else x)"
   ]
  },
  {
   "cell_type": "code",
   "execution_count": 68,
   "metadata": {
    "collapsed": false
   },
   "outputs": [],
   "source": [
    "train_data = df.values"
   ]
  },
  {
   "cell_type": "code",
   "execution_count": 69,
   "metadata": {
    "collapsed": false
   },
   "outputs": [],
   "source": [
    "model = RandomForestClassifier(\n",
    "    n_estimators = 100, \n",
    "    max_features=grid_search.best_params_['clf__max_features'], \n",
    "    max_depth=grid_search.best_params_['clf__max_depth'])\n",
    "model = model.fit(train_data[0:,2:],train_data[0:,0])"
   ]
  },
  {
   "cell_type": "markdown",
   "metadata": {},
   "source": [
    "## Scikit-learn - Making predictions"
   ]
  },
  {
   "cell_type": "code",
   "execution_count": 70,
   "metadata": {
    "collapsed": false
   },
   "outputs": [],
   "source": [
    "df_test = pd.read_csv('../data/test.csv')\n",
    "\n",
    "df_test = df_test.drop(['Name', 'Ticket', 'Cabin'], axis=1)"
   ]
  },
  {
   "cell_type": "markdown",
   "metadata": {},
   "source": [
    "Similarly we fill in the NAs in the test data with the better performer."
   ]
  },
  {
   "cell_type": "code",
   "execution_count": 71,
   "metadata": {
    "collapsed": false
   },
   "outputs": [],
   "source": [
    "df_test['Age'] = df_test['Age'].fillna(age_mean)"
   ]
  },
  {
   "cell_type": "code",
   "execution_count": 72,
   "metadata": {
    "collapsed": false
   },
   "outputs": [
    {
     "name": "stderr",
     "output_type": "stream",
     "text": [
      "/usr/local/lib/python2.7/site-packages/ipykernel/__main__.py:3: FutureWarning: scalar indexers for index type Int64Index should be integers and not floating point\n",
      "  app.launch_new_instance()\n"
     ]
    }
   ],
   "source": [
    "fare_means = df.pivot_table('Fare', index='Pclass', aggfunc='mean')\n",
    "df_test['Fare'] = df_test[['Fare', 'Pclass']].apply(lambda x:\n",
    "                            fare_means[x['Pclass']] if pd.isnull(x['Fare'])\n",
    "                            else x['Fare'], axis=1)\n",
    "\n",
    "df_test['Gender'] = df_test['Sex'].map({'female': 0, 'male': 1}).astype(int)\n",
    "df_test = pd.concat([df_test, pd.get_dummies(df_test['Embarked'], prefix='Embarked')],\n",
    "                axis=1)\n",
    "\n",
    "df_test = df_test.drop(['Sex', 'Embarked'], axis=1)\n",
    "\n",
    "test_data = df_test.values\n",
    "\n",
    "output = model.predict(test_data[:,1:])"
   ]
  },
  {
   "cell_type": "markdown",
   "metadata": {},
   "source": [
    "## Pandas - Preparing for submission"
   ]
  },
  {
   "cell_type": "code",
   "execution_count": 73,
   "metadata": {
    "collapsed": false
   },
   "outputs": [],
   "source": [
    "result = np.c_[test_data[:,0].astype(int), output.astype(int)]\n",
    "\n",
    "\n",
    "df_result = pd.DataFrame(result[:,0:2], columns=['PassengerId', 'Survived'])\n",
    "df_result.to_csv('../results/titanic_1-5.csv', index=False)"
   ]
  }
 ],
 "metadata": {
  "kernelspec": {
   "display_name": "Python 2",
   "language": "python",
   "name": "python2"
  },
  "language_info": {
   "codemirror_mode": {
    "name": "ipython",
    "version": 2
   },
   "file_extension": ".py",
   "mimetype": "text/x-python",
   "name": "python",
   "nbconvert_exporter": "python",
   "pygments_lexer": "ipython2",
   "version": "2.7.10"
  }
 },
 "nbformat": 4,
 "nbformat_minor": 0
}
